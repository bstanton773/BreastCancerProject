{
 "cells": [
  {
   "cell_type": "markdown",
   "metadata": {},
   "source": [
    "## Breast Cancer"
   ]
  },
  {
   "cell_type": "code",
   "execution_count": 1,
   "metadata": {},
   "outputs": [],
   "source": [
    "import pandas as pd\n",
    "import numpy as np\n",
    "import matplotlib.pyplot as plt\n",
    "%matplotlib inline\n",
    "from sklearn.model_selection import train_test_split\n",
    "from sklearn.preprocessing import StandardScaler\n",
    "from sklearn.neural_network import MLPClassifier\n",
    "from sklearn.metrics import classification_report,confusion_matrix"
   ]
  },
  {
   "cell_type": "code",
   "execution_count": 2,
   "metadata": {},
   "outputs": [
    {
     "name": "stdout",
     "output_type": "stream",
     "text": [
      "(569, 30)\n"
     ]
    }
   ],
   "source": [
    "from sklearn.datasets import load_breast_cancer\n",
    "cancer = load_breast_cancer()\n",
    "cancer.keys()\n",
    "\n",
    "# 569 data points with 30 features\n",
    "print(cancer['data'].shape)"
   ]
  },
  {
   "cell_type": "code",
   "execution_count": 3,
   "metadata": {},
   "outputs": [
    {
     "data": {
      "text/plain": [
       "(array([[1.757e+01, 1.505e+01, 1.150e+02, ..., 1.456e-01, 2.756e-01,\n",
       "         7.919e-02],\n",
       "        [1.218e+01, 1.784e+01, 7.779e+01, ..., 5.882e-02, 2.227e-01,\n",
       "         7.376e-02],\n",
       "        [1.453e+01, 1.398e+01, 9.386e+01, ..., 1.069e-01, 2.606e-01,\n",
       "         7.810e-02],\n",
       "        ...,\n",
       "        [1.989e+01, 2.026e+01, 1.305e+02, ..., 1.613e-01, 2.549e-01,\n",
       "         9.136e-02],\n",
       "        [1.154e+01, 1.444e+01, 7.465e+01, ..., 6.918e-02, 2.329e-01,\n",
       "         8.134e-02],\n",
       "        [1.359e+01, 2.184e+01, 8.716e+01, ..., 6.189e-02, 2.446e-01,\n",
       "         7.024e-02]]),\n",
       " array([[1.234e+01, 1.495e+01, 7.829e+01, ..., 4.793e-02, 2.298e-01,\n",
       "         5.974e-02],\n",
       "        [1.650e+01, 1.829e+01, 1.066e+02, ..., 9.123e-02, 2.394e-01,\n",
       "         6.469e-02],\n",
       "        [1.490e+01, 2.253e+01, 1.021e+02, ..., 2.475e-01, 2.866e-01,\n",
       "         1.155e-01],\n",
       "        ...,\n",
       "        [1.303e+01, 1.842e+01, 8.261e+01, ..., 5.013e-02, 1.987e-01,\n",
       "         6.169e-02],\n",
       "        [1.232e+01, 1.239e+01, 7.885e+01, ..., 9.391e-02, 2.827e-01,\n",
       "         6.771e-02],\n",
       "        [1.442e+01, 1.654e+01, 9.415e+01, ..., 1.414e-01, 3.053e-01,\n",
       "         8.764e-02]]))"
      ]
     },
     "execution_count": 3,
     "metadata": {},
     "output_type": "execute_result"
    }
   ],
   "source": [
    "# how to split data\n",
    "X = cancer['data']\n",
    "y = cancer['target']\n",
    "\n",
    "X_train, X_test, y_train, y_test = train_test_split(cancer.data, cancer.target, test_size=0.3)\n",
    "X_train, X_test"
   ]
  },
  {
   "cell_type": "code",
   "execution_count": 4,
   "metadata": {},
   "outputs": [],
   "source": [
    "# with some skip code\n",
    "\n",
    "# Standardazie data, fit only to the training data\n",
    "scaler = StandardScaler()\n",
    "scaler.fit(X_train)\n",
    "\n",
    "# Now apply the transformations to the data:\n",
    "X_train_scaled = scaler.transform(X_train)\n",
    "X_test_scaled = scaler.transform(X_test)"
   ]
  },
  {
   "cell_type": "code",
   "execution_count": 7,
   "metadata": {},
   "outputs": [
    {
     "data": {
      "text/plain": [
       "array([1, 0, 0, 0, 1, 1, 1, 0, 1, 0, 1, 0, 1, 1, 0, 1, 0, 1, 0, 1, 1, 1,\n",
       "       0, 0, 1, 0, 1, 1, 0, 1, 1, 1, 1, 0, 1, 1, 1, 1, 1, 1, 1, 1, 1, 1,\n",
       "       0, 0, 0, 0, 1, 1, 0, 1, 1, 1, 0, 1, 1, 1, 1, 1, 1, 0, 1, 0, 0, 0,\n",
       "       1, 1, 1, 1, 1, 0, 0, 0, 1, 1, 1, 1, 1, 1, 0, 1, 0, 1, 0, 1, 0, 1,\n",
       "       1, 1, 1, 0, 1, 1, 1, 1, 1, 1, 1, 0, 1, 0, 1, 0, 1, 1, 1, 1, 1, 0,\n",
       "       1, 0, 1, 0, 0, 0, 1, 0, 1, 1, 0, 0, 1, 0, 0, 1, 0, 1, 1, 1, 1, 1,\n",
       "       1, 1, 0, 1, 1, 1, 1, 1, 0, 0, 1, 0, 1, 1, 0, 0, 0, 1, 1, 1, 0, 1,\n",
       "       1, 1, 1, 1, 1, 1, 0, 1, 0, 0, 0, 0, 1, 0, 1, 1, 1])"
      ]
     },
     "execution_count": 7,
     "metadata": {},
     "output_type": "execute_result"
    }
   ],
   "source": [
    "# with some skip code\n",
    "\n",
    "# First step\n",
    "mlp = MLPClassifier(hidden_layer_sizes=(30,30,30))\n",
    "\n",
    "# Second step\n",
    "mlp.fit(X_train_scaled, y_train)\n",
    "\n",
    "# Third Step\n",
    "predictions = mlp.predict(X_test_scaled)\n",
    "predictions"
   ]
  },
  {
   "cell_type": "code",
   "execution_count": 9,
   "metadata": {},
   "outputs": [
    {
     "name": "stdout",
     "output_type": "stream",
     "text": [
      "Confusion Matrix: \n",
      " [[ 57   3]\n",
      " [  3 108]]\n",
      "Classification Report: \n",
      "              precision    recall  f1-score   support\n",
      "\n",
      "          0       0.95      0.95      0.95        60\n",
      "          1       0.97      0.97      0.97       111\n",
      "\n",
      "avg / total       0.96      0.96      0.96       171\n",
      "\n"
     ]
    }
   ],
   "source": [
    "print(\"Confusion Matrix: \\n\", confusion_matrix(y_test,predictions))\n",
    "print(\"Classification Report: \\n\", classification_report(y_test,predictions))"
   ]
  },
  {
   "cell_type": "code",
   "execution_count": null,
   "metadata": {},
   "outputs": [],
   "source": []
  }
 ],
 "metadata": {
  "kernelspec": {
   "display_name": "Python 3",
   "language": "python",
   "name": "python3"
  },
  "language_info": {
   "codemirror_mode": {
    "name": "ipython",
    "version": 3
   },
   "file_extension": ".py",
   "mimetype": "text/x-python",
   "name": "python",
   "nbconvert_exporter": "python",
   "pygments_lexer": "ipython3",
   "version": "3.6.4"
  },
  "nteract": {
   "version": "0.8.4"
  }
 },
 "nbformat": 4,
 "nbformat_minor": 2
}
